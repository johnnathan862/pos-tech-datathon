{
  "cells": [
    {
      "cell_type": "code",
      "execution_count": 25,
      "metadata": {
        "id": "jm7cdFS7xdkV"
      },
      "outputs": [],
      "source": [
        "import pandas as pd\n",
        "import os"
      ]
    },
    {
      "cell_type": "code",
      "source": [
        "from google.colab import drive\n",
        "drive.mount('/content/drive')"
      ],
      "metadata": {
        "colab": {
          "base_uri": "https://localhost:8080/"
        },
        "id": "BP_1tBXWxpFd",
        "outputId": "48379a3b-5d7f-42a8-9dfa-2ea9c5f47e76"
      },
      "execution_count": 9,
      "outputs": [
        {
          "output_type": "stream",
          "name": "stdout",
          "text": [
            "Drive already mounted at /content/drive; to attempt to forcibly remount, call drive.mount(\"/content/drive\", force_remount=True).\n"
          ]
        }
      ]
    },
    {
      "cell_type": "markdown",
      "source": [
        "# Funções"
      ],
      "metadata": {
        "id": "6fd12Q_B57BZ"
      }
    },
    {
      "cell_type": "code",
      "execution_count": 37,
      "metadata": {
        "id": "uWlucnPBxdkW"
      },
      "outputs": [],
      "source": [
        "def drop_unnamed_cols(df):\n",
        "    cols = df.columns\n",
        "    cols_unnamed = [col for col in cols if str(col).startswith('Unnamed')]\n",
        "\n",
        "    columns_to_drop = df[cols_unnamed].dropna(axis=1, how='all').columns\n",
        "\n",
        "    return df.drop(columns=columns_to_drop)\n",
        "\n",
        "\n",
        "\n",
        "def read_all_tables(dirname):\n",
        "    all_dfs = {}\n",
        "\n",
        "    list_files = os.listdir(dirname)\n",
        "\n",
        "    for file_ in list_files:\n",
        "        if file_.endswith(\".csv\"):\n",
        "            file_name = os.path.splitext(file_)[0]\n",
        "            df = pd.read_csv(os.path.join(dirname, file_))\n",
        "            df_cleanned = drop_unnamed_cols(df)\n",
        "            all_dfs[file_name] = df_cleanned\n",
        "\n",
        "            print(file_)\n",
        "\n",
        "    return all_dfs"
      ]
    },
    {
      "cell_type": "markdown",
      "source": [
        "# Lendo todos as tabelas"
      ],
      "metadata": {
        "id": "98Z-W_7ehmAM"
      }
    },
    {
      "cell_type": "code",
      "source": [
        "TbOutras = read_all_tables(\"/content/drive/MyDrive/Pos tech/datathon/csv_output/Tabelas/Outras tabelas/\")\n",
        "TbAbatimento = read_all_tables(\"/content/drive/MyDrive/Pos tech/datathon/csv_output/Tabelas/TbAbatimento/Originais anonimizados\")\n",
        "TbAlunos = read_all_tables(\"/content/drive/MyDrive/Pos tech/datathon/csv_output/Tabelas/TbAluno/Originais anonimizados\")\n",
        "TbCampoDinamico = read_all_tables(\"/content/drive/MyDrive/Pos tech/datathon/csv_output/Tabelas/TbCampoDinamico/Originais anonimizados\")\n",
        "TbCaptacao = read_all_tables(\"/content/drive/MyDrive/Pos tech/datathon/csv_output/Tabelas/TbCaptacao/Originais anonimizados\")\n",
        "TbDiario = read_all_tables(\"/content/drive/MyDrive/Pos tech/datathon/csv_output/Tabelas/TbDiario/Originais anonimizados\")\n",
        "TbFase = read_all_tables(\"/content/drive/MyDrive/Pos tech/datathon/csv_output/Tabelas/TbFase/Originais anonimizados\")\n",
        "TbHistorico = read_all_tables(\"/content/drive/MyDrive/Pos tech/datathon/csv_output/Tabelas/TbHistorico/Originais anonimizados\")\n",
        "TbMeta = read_all_tables(\"/content/drive/MyDrive/Pos tech/datathon/csv_output/Tabelas/TbMeta\")\n",
        "TbProfessor = read_all_tables(\"/content/drive/MyDrive/Pos tech/datathon/csv_output/Tabelas/TbProfessor/Originais anonimizados\")\n",
        "TbResponsavel = read_all_tables(\"/content/drive/MyDrive/Pos tech/datathon/csv_output/Tabelas/TbResponsavel/Originais anonimizados\")\n",
        "TbSerie = read_all_tables(\"/content/drive/MyDrive/Pos tech/datathon/csv_output/Tabelas/TbSerie/Originais anonimizados\")\n",
        "TbSituacaoAlunoDisciplina = read_all_tables(\"/content/drive/MyDrive/Pos tech/datathon/csv_output/Tabelas/TbSituacaoAlunoDisciplina/Originais anonimizados\")\n",
        "TbTurma = read_all_tables(\"/content/drive/MyDrive/Pos tech/datathon/csv_output/Tabelas/TbTurma/Originais anonimizados\")"
      ],
      "metadata": {
        "id": "Mx3ZT-a3fSfb",
        "outputId": "8a9c6b02-7f1c-4df2-889d-fa4b9cc06b3d",
        "colab": {
          "base_uri": "https://localhost:8080/"
        }
      },
      "execution_count": 42,
      "outputs": [
        {
          "output_type": "stream",
          "name": "stdout",
          "text": [
            "TbPais.csv\n",
            "TbMunicipio.csv\n",
            "TbDisciplina.csv\n",
            "TbCentroResultado.csv\n",
            "TbPeriodo.csv\n",
            "TbMotivoInativacao.csv\n",
            "TbFormaIngresso.csv\n",
            "TbFreqQuadroHorario.csv\n",
            "TbCursoFases.csv\n",
            "TbTipoOcorrencia.csv\n",
            "TbGradeCurricular.csv\n",
            "TbAbatimentoTipo.csv\n",
            "TbAbatimento.csv\n",
            "TbAlunoRotinaEducacaoInfantil.csv\n",
            "TbAlunoTurmaHistorico.csv\n",
            "TbAlunoProprioResponsavel.csv\n",
            "TbAlunoObs.csv\n",
            "TbAluno.csv\n",
            "TbAlunoTurma.csv\n",
            "TbCampoDinamicoConjuntoElemento.csv\n",
            "TbCampoDinamico.csv\n",
            "TbCampoDinamicoConjunto.csv\n",
            "TbCaptacaoCursoInteresse.csv\n",
            "TbCaptacaoMotivoDesistencia.csv\n",
            "TbCaptacaoSituacaoLead.csv\n",
            "TbCaptacaoOrigemLead.csv\n",
            "TbDiarioFrequencia.csv\n",
            "TbDiarioAluno.csv\n",
            "TbDiario.csv\n",
            "TbDiarioAula.csv\n",
            "TbFaseNotaAluno.csv\n",
            "TbFaseNota.csv\n",
            "TbFaseNotaDisciplinaTurma.csv\n",
            "TbFaseNotaOrigemDestino.csv\n",
            "TbHistorico.csv\n",
            "TbHistoricoNotas.csv\n",
            "TbMeta.csv\n",
            "TbMetaFaseNota.csv\n",
            "TbMetaFaseNotaAluno.csv\n",
            "TbMetaSituacaoAlunoDisciplina.csv\n",
            "TbTipoMeta.csv\n",
            "TbMetaConceito.csv\n",
            "TbProfessorDisciplina.csv\n",
            "TbProfessorHorario.csv\n",
            "TbProfessor.csv\n",
            "TbTipoVinculoAlunoResponsavel.csv\n",
            "TbTipoResponsavel.csv\n",
            "TbResponsavel.csv\n",
            "TbSerie.csv\n",
            "TbSerieGrupo.csv\n",
            "TbTipoSituacaoAlunoDisciplina.csv\n",
            "TbSituacaoAlunoDisciplina.csv\n",
            "TbTurma.csv\n",
            "TbTurmaProfessorSecundario.csv\n",
            "TbSituacaoAlunoTurma.csv\n",
            "TbTurmaProfessor.csv\n"
          ]
        }
      ]
    }
  ],
  "metadata": {
    "kernelspec": {
      "display_name": "venv_datathon",
      "language": "python",
      "name": "python3"
    },
    "language_info": {
      "codemirror_mode": {
        "name": "ipython",
        "version": 3
      },
      "file_extension": ".py",
      "mimetype": "text/x-python",
      "name": "python",
      "nbconvert_exporter": "python",
      "pygments_lexer": "ipython3",
      "version": "3.10.12"
    },
    "colab": {
      "provenance": []
    }
  },
  "nbformat": 4,
  "nbformat_minor": 0
}