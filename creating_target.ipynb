{
  "nbformat": 4,
  "nbformat_minor": 0,
  "metadata": {
    "colab": {
      "provenance": [],
      "toc_visible": true,
      "authorship_tag": "ABX9TyMBnhBZIhTkj6A/yuq/g4fS"
    },
    "kernelspec": {
      "name": "python3",
      "display_name": "Python 3"
    },
    "language_info": {
      "name": "python"
    }
  },
  "cells": [
    {
      "cell_type": "code",
      "execution_count": 1,
      "metadata": {
        "id": "9vKQT4FB7Lgd"
      },
      "outputs": [],
      "source": [
        "import pandas as pd\n",
        "import numpy as np\n",
        "import os"
      ]
    },
    {
      "cell_type": "code",
      "source": [
        "dt_hoje = '2024-08-08'"
      ],
      "metadata": {
        "id": "INhzDuUm7TgA"
      },
      "execution_count": 2,
      "outputs": []
    },
    {
      "cell_type": "code",
      "source": [
        "from google.colab import drive\n",
        "drive.mount('/content/drive')"
      ],
      "metadata": {
        "colab": {
          "base_uri": "https://localhost:8080/"
        },
        "id": "LWhdpU2T7a3i",
        "outputId": "f69b60f0-c5bf-4a46-f1cc-a444cbb48ce4"
      },
      "execution_count": 3,
      "outputs": [
        {
          "output_type": "stream",
          "name": "stdout",
          "text": [
            "Mounted at /content/drive\n"
          ]
        }
      ]
    },
    {
      "cell_type": "markdown",
      "source": [
        "# Funções"
      ],
      "metadata": {
        "id": "yS4MxK9D7r7G"
      }
    },
    {
      "cell_type": "code",
      "source": [
        "def drop_unnamed_cols(df):\n",
        "    cols = df.columns\n",
        "    cols_unnamed = [col for col in cols if str(col).startswith('Unnamed')]\n",
        "\n",
        "    columns_to_drop = df[cols_unnamed].dropna(axis=1, how='all').columns\n",
        "\n",
        "    return df.drop(columns=columns_to_drop)\n",
        "\n",
        "\n",
        "\n",
        "def drop_null_cols(df):\n",
        "    return df.dropna(axis=1, how='all')\n",
        "\n",
        "\n",
        "\n",
        "def read_all_tables(dirname):\n",
        "    all_dfs = {}\n",
        "\n",
        "    list_files = os.listdir(dirname)\n",
        "\n",
        "    for file_ in list_files:\n",
        "        if file_.endswith(\".csv\"):\n",
        "            file_name = os.path.splitext(file_)[0]\n",
        "            df = pd.read_csv(os.path.join(dirname, file_))\n",
        "            df_cleanned = drop_unnamed_cols(df)\n",
        "            df_cleanned = drop_null_cols(df_cleanned)\n",
        "            all_dfs[file_name] = df_cleanned\n",
        "\n",
        "            print(file_)\n",
        "\n",
        "    return all_dfs\n",
        "\n",
        "\n",
        "\n",
        "def print_keys_with_column(data_dict, column_name):\n",
        "    for key, df in data_dict.items():\n",
        "        if column_name in df.columns:\n",
        "            print(key)\n",
        "\n",
        "\n",
        "\n",
        "def print_keys_with_column_like(data_dict, column_name_like):\n",
        "    for key, df in data_dict.items():\n",
        "        matching_columns = [col for col in df.columns if column_name_like in col]\n",
        "        if matching_columns:\n",
        "            print(key)\n",
        "\n",
        "\n",
        "\n",
        "def search_tables_use_column(ls_data_dict, type_search, column_name):\n",
        "    if type_search == 'like':\n",
        "        for dict_data in ls_data_dict:\n",
        "            print_keys_with_column_like(dict_data, column_name)\n",
        "    elif type_search == 'exact':\n",
        "        for dict_data in ls_data_dict:\n",
        "            print_keys_with_column(dict_data, column_name)\n",
        "    else:\n",
        "        raise ValueError(\"Tipo de busca não suportado. Use 'like' ou 'exact'.\")\n"
      ],
      "metadata": {
        "id": "MhudrwdS7oAK"
      },
      "execution_count": 4,
      "outputs": []
    }
  ]
}