{
  "nbformat": 4,
  "nbformat_minor": 0,
  "metadata": {
    "colab": {
      "provenance": [],
      "toc_visible": true,
      "authorship_tag": "ABX9TyNdNF8WMJBLlV525Cq982C5",
      "include_colab_link": true
    },
    "kernelspec": {
      "name": "python3",
      "display_name": "Python 3"
    },
    "language_info": {
      "name": "python"
    }
  },
  "cells": [
    {
      "cell_type": "markdown",
      "metadata": {
        "id": "view-in-github",
        "colab_type": "text"
      },
      "source": [
        "<a href=\"https://colab.research.google.com/github/johnnathan862/pos-tech-datathon/blob/main/creating_features.ipynb\" target=\"_parent\"><img src=\"https://colab.research.google.com/assets/colab-badge.svg\" alt=\"Open In Colab\"/></a>"
      ]
    },
    {
      "cell_type": "code",
      "execution_count": 261,
      "metadata": {
        "id": "9vKQT4FB7Lgd"
      },
      "outputs": [],
      "source": [
        "import pandas as pd\n",
        "import numpy as np\n",
        "import os\n",
        "import matplotlib.pyplot as plt\n",
        "import itertools"
      ]
    },
    {
      "cell_type": "code",
      "source": [
        "dt_hoje = '2024-08-08'"
      ],
      "metadata": {
        "id": "INhzDuUm7TgA"
      },
      "execution_count": 126,
      "outputs": []
    },
    {
      "cell_type": "code",
      "source": [
        "from google.colab import drive\n",
        "drive.mount('/content/drive')"
      ],
      "metadata": {
        "colab": {
          "base_uri": "https://localhost:8080/"
        },
        "id": "LWhdpU2T7a3i",
        "outputId": "63e37a9b-57a1-46a8-a6b1-a1a710bed214"
      },
      "execution_count": 127,
      "outputs": [
        {
          "output_type": "stream",
          "name": "stdout",
          "text": [
            "Drive already mounted at /content/drive; to attempt to forcibly remount, call drive.mount(\"/content/drive\", force_remount=True).\n"
          ]
        }
      ]
    },
    {
      "cell_type": "markdown",
      "source": [
        "# Funções"
      ],
      "metadata": {
        "id": "yS4MxK9D7r7G"
      }
    },
    {
      "cell_type": "code",
      "source": [
        "def drop_unnamed_cols(df):\n",
        "    cols = df.columns\n",
        "    cols_unnamed = [col for col in cols if str(col).startswith('Unnamed')]\n",
        "\n",
        "    columns_to_drop = df[cols_unnamed].dropna(axis=1, how='all').columns\n",
        "\n",
        "    return df.drop(columns=columns_to_drop)\n",
        "\n",
        "\n",
        "\n",
        "def drop_null_cols(df):\n",
        "    return df.dropna(axis=1, how='all')\n",
        "\n",
        "\n",
        "\n",
        "def read_all_tables(dirname):\n",
        "    all_dfs = {}\n",
        "\n",
        "    list_files = os.listdir(dirname)\n",
        "\n",
        "    for file_ in list_files:\n",
        "        if file_.endswith(\".csv\"):\n",
        "            file_name = os.path.splitext(file_)[0]\n",
        "            df = pd.read_csv(os.path.join(dirname, file_))\n",
        "            df_cleanned = drop_unnamed_cols(df)\n",
        "            df_cleanned = drop_null_cols(df_cleanned)\n",
        "            all_dfs[file_name] = df_cleanned\n",
        "\n",
        "            print(file_)\n",
        "\n",
        "    return all_dfs\n",
        "\n",
        "\n",
        "\n",
        "def print_keys_with_column(data_dict, column_name):\n",
        "    for key, df in data_dict.items():\n",
        "        if column_name in df.columns:\n",
        "            print(key)\n",
        "\n",
        "\n",
        "\n",
        "def print_keys_with_column_like(data_dict, column_name_like):\n",
        "    for key, df in data_dict.items():\n",
        "        matching_columns = [col for col in df.columns if column_name_like in col]\n",
        "        if matching_columns:\n",
        "            print(key)\n",
        "\n",
        "\n",
        "\n",
        "def search_tables_use_column(ls_data_dict, type_search, column_name):\n",
        "    if type_search == 'like':\n",
        "        for dict_data in ls_data_dict:\n",
        "            print_keys_with_column_like(dict_data, column_name)\n",
        "    elif type_search == 'exact':\n",
        "        for dict_data in ls_data_dict:\n",
        "            print_keys_with_column(dict_data, column_name)\n",
        "    else:\n",
        "        raise ValueError(\"Tipo de busca não suportado. Use 'like' ou 'exact'.\")\n",
        "\n",
        "\n",
        "\n",
        "def plot_qtd_stack_bar(df, x, y, group, figsize=(20,10), colors=None):\n",
        "    # Se a group for nulo o gráfico de barras pode ver utilizado sem criar grupos dentro das barras\n",
        "    if group:\n",
        "        agg_tips = df.groupby([x, group])[y].count().unstack().fillna(0)\n",
        "    else:\n",
        "        agg_tips = df.groupby([x])[y].count().fillna(0).to_frame()\n",
        "\n",
        "    fig, ax = plt.subplots(figsize=figsize)\n",
        "\n",
        "    # colors = ['#008080', '#DAA520','#8A2BE2','#0000FF']\n",
        "    if colors:\n",
        "        pass\n",
        "    else:\n",
        "        colors = [None for i in range(agg_tips.shape[1])]\n",
        "\n",
        "    bottom = np.zeros(len(agg_tips))\n",
        "\n",
        "    lst_index = [str(i) for i in agg_tips.index]\n",
        "\n",
        "    for i, col in enumerate(agg_tips.columns):\n",
        "        ax.bar(\n",
        "          lst_index, agg_tips[col], bottom=bottom, label=col, edgecolor = \"black\", color=colors[i]) #, color=colors[i]\n",
        "        bottom += np.array(agg_tips[col])\n",
        "\n",
        "    # Coloca o label de qtd de observações acima das barras.\n",
        "    totals = agg_tips.sum(axis=1)\n",
        "    lst_index_total = [str(i) for i in totals.index]\n",
        "    y_offset = 5\n",
        "    for i, total in enumerate(totals):\n",
        "        ax.text(lst_index_total[i], total + y_offset, round(total), ha='center', weight='bold')\n",
        "\n",
        "    # Se group é nulo não colocamos o label de qtd de observações dentro da barra\n",
        "    if group:\n",
        "        # Let's put the annotations inside the bars themselves by using a\n",
        "        # negative offset.\n",
        "        y_offset = -100\n",
        "        # For each patch (basically each rectangle within the bar), add a label.\n",
        "        for bar in ax.patches:\n",
        "            ax.text(\n",
        "                # Put the text in the middle of each bar. get_x returns the start\n",
        "                # so we add half the width to get to the middle.\n",
        "                bar.get_x() + bar.get_width() / 2,\n",
        "                # Vertically, add the height of the bar to the start of the bar,\n",
        "                # along with the offset.\n",
        "                bar.get_y() + bar.get_height() / 2, #bar.get_height() + bar.get_y() + y_offset,\n",
        "                # This is actual value we'll show.\n",
        "                round(bar.get_height()),\n",
        "                # Center the labels and style them a bit.\n",
        "                ha='center',\n",
        "                color='w',\n",
        "                weight='bold',\n",
        "                size=8\n",
        "            )\n",
        "\n",
        "        ax.set_title(f'Qtd de {y} por {group}')\n",
        "        ax.legend()\n",
        "        plt.xticks(rotation=90)\n",
        "\n",
        "    else:\n",
        "        ax.set_title(f'Qtd de {y}')\n",
        "        ax.legend()\n",
        "        plt.xticks(rotation=90)\n",
        "\n",
        "\n",
        "\n",
        "def plot_porcentagem_stack_bar(df, x, y, group, figsize=(20,10)):\n",
        "    agg_tips = df.groupby([x, group])[y].count().unstack().fillna(0)\n",
        "    totals = agg_tips.sum(axis=1)\n",
        "    agg_tips = agg_tips.div(totals, axis='index').mul(100)\n",
        "\n",
        "    fig, ax = plt.subplots(figsize=figsize)\n",
        "\n",
        "    # colors = ['#008080', '#DAA520','#8A2BE2','#0000FF']\n",
        "    bottom = np.zeros(len(agg_tips))\n",
        "\n",
        "    lst_index = [str(i) for i in agg_tips.index]\n",
        "\n",
        "    for i, col in enumerate(agg_tips.columns):\n",
        "        ax.bar(\n",
        "          lst_index, agg_tips[col], bottom=bottom, label=col, edgecolor = \"black\") # , color=colors[i]\n",
        "\n",
        "        bottom += np.array(agg_tips[col])\n",
        "\n",
        "    # For each patch (basically each rectangle within the bar), add a label.\n",
        "    for bar in ax.patches:\n",
        "        ax.text(\n",
        "            # Put the text in the middle of each bar. get_x returns the start\n",
        "            # so we add half the width to get to the middle.\n",
        "            bar.get_x() + bar.get_width() / 2,\n",
        "            # Vertically, add the height of the bar to the start of the bar,\n",
        "            # along with the offset.\n",
        "            bar.get_y() + bar.get_height() / 2, #bar.get_height() + bar.get_y() + y_offset,\n",
        "            # This is actual value we'll show.\n",
        "            round(bar.get_height()),\n",
        "            # Center the labels and style them a bit.\n",
        "            ha='center',\n",
        "            color='w',\n",
        "            weight='bold',\n",
        "            size=8\n",
        "        )\n",
        "\n",
        "    ax.set_title(f'Porcentagem de matriculas por {group}')\n",
        "    ax.legend()\n",
        "    plt.xticks(rotation=90)\n",
        "\n",
        "\n",
        "def cleanning_cols_dates(df):\n",
        "    df_ = df.copy()\n",
        "\n",
        "    lst_cols_dates = [col for col in df_.columns if col.startswith('Data')]\n",
        "    print(\"Lista de colunas de datas:\", lst_cols_dates)\n",
        "    for col in lst_cols_dates:\n",
        "        try:\n",
        "            df_[col] = pd.to_datetime(df_[col])\n",
        "        except:\n",
        "            print(f'Essa coluna \"{col}\" não pode ser convertida para data')\n",
        "\n",
        "    return df_\n",
        "\n",
        "\n",
        "def coalesce_multiple_columns(df, lst_cols_to_coalesce, new_col, drop_cols=False):\n",
        "    df_ = df.copy()\n",
        "    # Nova coluna\n",
        "    df_[new_col] = df_[lst_cols_to_coalesce].bfill(axis=1).iloc[:, 0]\n",
        "\n",
        "    if drop_cols:\n",
        "        df_ = df_.drop(columns=lst_cols_to_coalesce)\n",
        "\n",
        "    return df_"
      ],
      "metadata": {
        "id": "MhudrwdS7oAK"
      },
      "execution_count": 128,
      "outputs": []
    },
    {
      "cell_type": "markdown",
      "source": [
        "# Lendo todas as tabelas"
      ],
      "metadata": {
        "id": "mLZYJByw8WW-"
      }
    },
    {
      "cell_type": "code",
      "source": [
        "TbOutras = read_all_tables(\"/content/drive/MyDrive/Pos tech/datathon/csv_output/Tabelas/Outras tabelas/\")\n",
        "TbAbatimento = read_all_tables(\"/content/drive/MyDrive/Pos tech/datathon/csv_output/Tabelas/TbAbatimento/Originais anonimizados\")\n",
        "TbAlunos = read_all_tables(\"/content/drive/MyDrive/Pos tech/datathon/csv_output/Tabelas/TbAluno/Originais anonimizados\")\n",
        "TbCampoDinamico = read_all_tables(\"/content/drive/MyDrive/Pos tech/datathon/csv_output/Tabelas/TbCampoDinamico/Originais anonimizados\")\n",
        "TbCaptacao = read_all_tables(\"/content/drive/MyDrive/Pos tech/datathon/csv_output/Tabelas/TbCaptacao/Originais anonimizados\")\n",
        "TbDiario = read_all_tables(\"/content/drive/MyDrive/Pos tech/datathon/csv_output/Tabelas/TbDiario/Originais anonimizados\")\n",
        "TbFase = read_all_tables(\"/content/drive/MyDrive/Pos tech/datathon/csv_output/Tabelas/TbFase/Originais anonimizados\")\n",
        "TbHistorico = read_all_tables(\"/content/drive/MyDrive/Pos tech/datathon/csv_output/Tabelas/TbHistorico/Originais anonimizados\")\n",
        "TbMeta = read_all_tables(\"/content/drive/MyDrive/Pos tech/datathon/csv_output/Tabelas/TbMeta\")\n",
        "TbProfessor = read_all_tables(\"/content/drive/MyDrive/Pos tech/datathon/csv_output/Tabelas/TbProfessor/Originais anonimizados\")\n",
        "TbResponsavel = read_all_tables(\"/content/drive/MyDrive/Pos tech/datathon/csv_output/Tabelas/TbResponsavel/Originais anonimizados\")\n",
        "TbSerie = read_all_tables(\"/content/drive/MyDrive/Pos tech/datathon/csv_output/Tabelas/TbSerie/Originais anonimizados\")\n",
        "TbSituacaoAlunoDisciplina = read_all_tables(\"/content/drive/MyDrive/Pos tech/datathon/csv_output/Tabelas/TbSituacaoAlunoDisciplina/Originais anonimizados\")\n",
        "TbTurma = read_all_tables(\"/content/drive/MyDrive/Pos tech/datathon/csv_output/Tabelas/TbTurma/Originais anonimizados\")\n",
        "lst_todos_dados = [TbOutras, TbAbatimento, TbAlunos, TbCampoDinamico, TbCaptacao, TbDiario, TbFase, TbHistorico, TbMeta, TbProfessor, TbResponsavel, TbSerie, TbSituacaoAlunoDisciplina, TbTurma]\n",
        "\n",
        "DictTodasTabelas = (TbOutras | TbAbatimento | TbAlunos | TbCampoDinamico | TbCaptacao | TbDiario | TbFase | TbHistorico | TbMeta | TbProfessor | TbResponsavel | TbSerie | TbSituacaoAlunoDisciplina | TbTurma)"
      ],
      "metadata": {
        "colab": {
          "base_uri": "https://localhost:8080/"
        },
        "id": "2h4C3RkX8QrM",
        "outputId": "431543f3-dae5-4752-c4b0-bcd0691480e4"
      },
      "execution_count": 129,
      "outputs": [
        {
          "output_type": "stream",
          "name": "stdout",
          "text": [
            "TbPais.csv\n",
            "TbMunicipio.csv\n",
            "TbDisciplina.csv\n",
            "TbCentroResultado.csv\n",
            "TbPeriodo.csv\n",
            "TbMotivoInativacao.csv\n",
            "TbFormaIngresso.csv\n",
            "TbFreqQuadroHorario.csv\n",
            "TbCursoFases.csv\n",
            "TbTipoOcorrencia.csv\n",
            "TbGradeCurricular.csv\n",
            "TbAbatimentoTipo.csv\n",
            "TbAbatimento.csv\n",
            "TbAlunoRotinaEducacaoInfantil.csv\n",
            "TbAlunoTurmaHistorico.csv\n",
            "TbAlunoProprioResponsavel.csv\n",
            "TbAlunoObs.csv\n",
            "TbAluno.csv\n",
            "TbAlunoTurma.csv\n",
            "TbCampoDinamicoConjuntoElemento.csv\n",
            "TbCampoDinamico.csv\n",
            "TbCampoDinamicoConjunto.csv\n",
            "TbCaptacaoCursoInteresse.csv\n",
            "TbCaptacaoMotivoDesistencia.csv\n",
            "TbCaptacaoSituacaoLead.csv\n",
            "TbCaptacaoOrigemLead.csv\n",
            "TbDiarioFrequencia.csv\n",
            "TbDiarioAluno.csv\n",
            "TbDiario.csv\n",
            "TbDiarioAula.csv\n",
            "TbFaseNotaAluno.csv\n",
            "TbFaseNota.csv\n",
            "TbFaseNotaDisciplinaTurma.csv\n",
            "TbFaseNotaOrigemDestino.csv\n",
            "TbHistorico.csv\n",
            "TbHistoricoNotas.csv\n",
            "TbMeta.csv\n",
            "TbMetaFaseNota.csv\n",
            "TbMetaFaseNotaAluno.csv\n",
            "TbMetaSituacaoAlunoDisciplina.csv\n",
            "TbTipoMeta.csv\n",
            "TbMetaConceito.csv\n",
            "TbProfessorDisciplina.csv\n",
            "TbProfessorHorario.csv\n",
            "TbProfessor.csv\n",
            "TbTipoVinculoAlunoResponsavel.csv\n",
            "TbTipoResponsavel.csv\n",
            "TbResponsavel.csv\n",
            "TbSerie.csv\n",
            "TbSerieGrupo.csv\n",
            "TbTipoSituacaoAlunoDisciplina.csv\n",
            "TbSituacaoAlunoDisciplina.csv\n",
            "TbTurma.csv\n",
            "TbTurmaProfessorSecundario.csv\n",
            "TbSituacaoAlunoTurma.csv\n",
            "TbTurmaProfessor.csv\n"
          ]
        }
      ]
    },
    {
      "cell_type": "code",
      "source": [
        "# Dataframes importantes\n",
        "alunos_turmas_df = TbAlunos['TbAlunoTurma']\n",
        "alunos_df = TbAlunos['TbAluno']\n",
        "alunos_turmas_hist_df = TbAlunos['TbAlunoTurmaHistorico']\n",
        "disciplinas_df = TbSerie['TbSerie']\n",
        "turmas_df = TbTurma['TbTurma']\n",
        "situacao_aluno_turma_df = TbTurma['TbSituacaoAlunoTurma']\n",
        "motivos_inat_df = TbOutras['TbMotivoInativacao']"
      ],
      "metadata": {
        "id": "O6a_fLtiRK9M"
      },
      "execution_count": 130,
      "outputs": []
    },
    {
      "cell_type": "markdown",
      "source": [
        "# Target\n"
      ],
      "metadata": {
        "id": "RisVMwfBFc1c"
      }
    },
    {
      "cell_type": "code",
      "source": [
        "target_df = pd.read_csv('/content/drive/MyDrive/Pos tech/datathon/target_df.csv')"
      ],
      "metadata": {
        "id": "RL5RpbFUFcQy"
      },
      "execution_count": 131,
      "outputs": []
    },
    {
      "cell_type": "code",
      "source": [
        "target_df.info()"
      ],
      "metadata": {
        "colab": {
          "base_uri": "https://localhost:8080/"
        },
        "id": "C5KYcl9IFzxd",
        "outputId": "a440f5cb-01c2-479f-db89-b49afb49f230"
      },
      "execution_count": 132,
      "outputs": [
        {
          "output_type": "stream",
          "name": "stdout",
          "text": [
            "<class 'pandas.core.frame.DataFrame'>\n",
            "RangeIndex: 7313 entries, 0 to 7312\n",
            "Data columns (total 32 columns):\n",
            " #   Column                          Non-Null Count  Dtype  \n",
            "---  ------                          --------------  -----  \n",
            " 0   IdTurma                         7313 non-null   int64  \n",
            " 1   IdAluno                         7313 non-null   int64  \n",
            " 2   IdSituacaoAlunoTurma            7313 non-null   int64  \n",
            " 3   DataSituacaoAtivo               7313 non-null   object \n",
            " 4   DataSituacaoInativo             7313 non-null   object \n",
            " 5   OrdemChamada                    7313 non-null   int64  \n",
            " 6   DataHoraEfetivacaoMatricula     7313 non-null   object \n",
            " 7   IdUsuarioEfetivacaoMatricula    3166 non-null   float64\n",
            " 8   ProblemaAutorizadoMatricula     2558 non-null   object \n",
            " 9   IdUsuarioAutorizacaoMatricula   2279 non-null   float64\n",
            " 10  StAlunoTurmaNaoPermitePParcial  7313 non-null   bool   \n",
            " 11  IdResponsavelFinanceiro         7300 non-null   float64\n",
            " 12  IdTipoResponsavelFinanceiro     7300 non-null   float64\n",
            " 13  IdResponsavelSecundario         18 non-null     float64\n",
            " 14  IdTipoResponsavelSecundario     18 non-null     float64\n",
            " 15  IdMotivoInativacao              1781 non-null   float64\n",
            " 16  ComentarioInativacao            20 non-null     object \n",
            " 17  IdPlanoPagamento_PreMatricula   0 non-null      float64\n",
            " 18  IdPlanoPagamento_Matricula      5550 non-null   float64\n",
            " 19  IdAlunoTurma                    7313 non-null   int64  \n",
            " 20  SituacaoAlunoTurma              7313 non-null   object \n",
            " 21  AnoMesAtivo                     7313 non-null   int64  \n",
            " 22  AnoMesInativo                   7313 non-null   int64  \n",
            " 23  AnoMesEfetivacaoMatricula       7313 non-null   int64  \n",
            " 24  AnoMesRefFeatures               7313 non-null   int64  \n",
            " 25  DifDiasInativoAtivo             7313 non-null   float64\n",
            " 26  DifDiasInativoMatricula         7313 non-null   float64\n",
            " 27  Inativacao                      7313 non-null   object \n",
            " 28  InativacaoPorFaltaAdaptacao     7313 non-null   object \n",
            " 29  Desistente                      7313 non-null   object \n",
            " 30  TargetPorFaltaAdaptacao         7313 non-null   int64  \n",
            " 31  TargetDesistente                7313 non-null   int64  \n",
            "dtypes: bool(1), float64(11), int64(11), object(9)\n",
            "memory usage: 1.7+ MB\n"
          ]
        }
      ]
    },
    {
      "cell_type": "markdown",
      "source": [
        "# Features"
      ],
      "metadata": {
        "id": "LSx19FWdnsrN"
      }
    },
    {
      "cell_type": "code",
      "source": [
        "periodo_df = TbOutras['TbPeriodo']\n",
        "alunos_df = TbAlunos['TbAluno']"
      ],
      "metadata": {
        "id": "5kHjaVrUnxAb"
      },
      "execution_count": 271,
      "outputs": []
    },
    {
      "cell_type": "code",
      "source": [
        "# Criando tabela com todos os anos e mês\n",
        "lst_anos = periodo_df['AnoConclusao'].unique()\n",
        "lst_meses = list(range(1,13))\n",
        "ano_mes_df = pd.DataFrame(list(itertools.product(lst_anos, lst_meses)), columns=['Ano', 'Mes'])\n",
        "ano_mes_df['AnoMes'] = ano_mes_df['Ano'].astype(str) + ano_mes_df['Mes'].astype(str).str.zfill(2)"
      ],
      "metadata": {
        "id": "gLQRHGCNo6eU"
      },
      "execution_count": 272,
      "outputs": []
    },
    {
      "cell_type": "code",
      "source": [
        "# Tabela de será usada para adicionar as features dos alunos\n",
        "ano_mes_df['key'] = 1\n",
        "alunos_df['key'] = 1\n",
        "\n",
        "features_df = pd.merge(\n",
        "    ano_mes_df,\n",
        "    alunos_df[['key','IdAluno']].drop_duplicates(),\n",
        "    on='key',\n",
        "    how='left'\n",
        ").drop(columns=['key'])\n",
        "\n",
        "features_df.sort_values(by=['IdAluno','AnoMes'], inplace=True)"
      ],
      "metadata": {
        "id": "adLfiY6mp1Jx"
      },
      "execution_count": 273,
      "outputs": []
    },
    {
      "cell_type": "code",
      "source": [
        "features_df"
      ],
      "metadata": {
        "colab": {
          "base_uri": "https://localhost:8080/",
          "height": 424
        },
        "id": "AIoQbCvypqdH",
        "outputId": "cac57f12-a7cd-45f7-b865-1b0bc5e38511"
      },
      "execution_count": 274,
      "outputs": [
        {
          "output_type": "execute_result",
          "data": {
            "text/plain": [
              "         Ano  Mes  AnoMes  IdAluno\n",
              "0       2018    1  201801        3\n",
              "2238    2018    2  201802        3\n",
              "4476    2018    3  201803        3\n",
              "6714    2018    4  201804        3\n",
              "8952    2018    5  201805        3\n",
              "...      ...  ...     ...      ...\n",
              "179039  2024    8  202408     2262\n",
              "181277  2024    9  202409     2262\n",
              "183515  2024   10  202410     2262\n",
              "185753  2024   11  202411     2262\n",
              "187991  2024   12  202412     2262\n",
              "\n",
              "[187992 rows x 4 columns]"
            ],
            "text/html": [
              "\n",
              "  <div id=\"df-5aae5732-8a18-4e39-8029-db3db83fc36f\" class=\"colab-df-container\">\n",
              "    <div>\n",
              "<style scoped>\n",
              "    .dataframe tbody tr th:only-of-type {\n",
              "        vertical-align: middle;\n",
              "    }\n",
              "\n",
              "    .dataframe tbody tr th {\n",
              "        vertical-align: top;\n",
              "    }\n",
              "\n",
              "    .dataframe thead th {\n",
              "        text-align: right;\n",
              "    }\n",
              "</style>\n",
              "<table border=\"1\" class=\"dataframe\">\n",
              "  <thead>\n",
              "    <tr style=\"text-align: right;\">\n",
              "      <th></th>\n",
              "      <th>Ano</th>\n",
              "      <th>Mes</th>\n",
              "      <th>AnoMes</th>\n",
              "      <th>IdAluno</th>\n",
              "    </tr>\n",
              "  </thead>\n",
              "  <tbody>\n",
              "    <tr>\n",
              "      <th>0</th>\n",
              "      <td>2018</td>\n",
              "      <td>1</td>\n",
              "      <td>201801</td>\n",
              "      <td>3</td>\n",
              "    </tr>\n",
              "    <tr>\n",
              "      <th>2238</th>\n",
              "      <td>2018</td>\n",
              "      <td>2</td>\n",
              "      <td>201802</td>\n",
              "      <td>3</td>\n",
              "    </tr>\n",
              "    <tr>\n",
              "      <th>4476</th>\n",
              "      <td>2018</td>\n",
              "      <td>3</td>\n",
              "      <td>201803</td>\n",
              "      <td>3</td>\n",
              "    </tr>\n",
              "    <tr>\n",
              "      <th>6714</th>\n",
              "      <td>2018</td>\n",
              "      <td>4</td>\n",
              "      <td>201804</td>\n",
              "      <td>3</td>\n",
              "    </tr>\n",
              "    <tr>\n",
              "      <th>8952</th>\n",
              "      <td>2018</td>\n",
              "      <td>5</td>\n",
              "      <td>201805</td>\n",
              "      <td>3</td>\n",
              "    </tr>\n",
              "    <tr>\n",
              "      <th>...</th>\n",
              "      <td>...</td>\n",
              "      <td>...</td>\n",
              "      <td>...</td>\n",
              "      <td>...</td>\n",
              "    </tr>\n",
              "    <tr>\n",
              "      <th>179039</th>\n",
              "      <td>2024</td>\n",
              "      <td>8</td>\n",
              "      <td>202408</td>\n",
              "      <td>2262</td>\n",
              "    </tr>\n",
              "    <tr>\n",
              "      <th>181277</th>\n",
              "      <td>2024</td>\n",
              "      <td>9</td>\n",
              "      <td>202409</td>\n",
              "      <td>2262</td>\n",
              "    </tr>\n",
              "    <tr>\n",
              "      <th>183515</th>\n",
              "      <td>2024</td>\n",
              "      <td>10</td>\n",
              "      <td>202410</td>\n",
              "      <td>2262</td>\n",
              "    </tr>\n",
              "    <tr>\n",
              "      <th>185753</th>\n",
              "      <td>2024</td>\n",
              "      <td>11</td>\n",
              "      <td>202411</td>\n",
              "      <td>2262</td>\n",
              "    </tr>\n",
              "    <tr>\n",
              "      <th>187991</th>\n",
              "      <td>2024</td>\n",
              "      <td>12</td>\n",
              "      <td>202412</td>\n",
              "      <td>2262</td>\n",
              "    </tr>\n",
              "  </tbody>\n",
              "</table>\n",
              "<p>187992 rows × 4 columns</p>\n",
              "</div>\n",
              "    <div class=\"colab-df-buttons\">\n",
              "\n",
              "  <div class=\"colab-df-container\">\n",
              "    <button class=\"colab-df-convert\" onclick=\"convertToInteractive('df-5aae5732-8a18-4e39-8029-db3db83fc36f')\"\n",
              "            title=\"Convert this dataframe to an interactive table.\"\n",
              "            style=\"display:none;\">\n",
              "\n",
              "  <svg xmlns=\"http://www.w3.org/2000/svg\" height=\"24px\" viewBox=\"0 -960 960 960\">\n",
              "    <path d=\"M120-120v-720h720v720H120Zm60-500h600v-160H180v160Zm220 220h160v-160H400v160Zm0 220h160v-160H400v160ZM180-400h160v-160H180v160Zm440 0h160v-160H620v160ZM180-180h160v-160H180v160Zm440 0h160v-160H620v160Z\"/>\n",
              "  </svg>\n",
              "    </button>\n",
              "\n",
              "  <style>\n",
              "    .colab-df-container {\n",
              "      display:flex;\n",
              "      gap: 12px;\n",
              "    }\n",
              "\n",
              "    .colab-df-convert {\n",
              "      background-color: #E8F0FE;\n",
              "      border: none;\n",
              "      border-radius: 50%;\n",
              "      cursor: pointer;\n",
              "      display: none;\n",
              "      fill: #1967D2;\n",
              "      height: 32px;\n",
              "      padding: 0 0 0 0;\n",
              "      width: 32px;\n",
              "    }\n",
              "\n",
              "    .colab-df-convert:hover {\n",
              "      background-color: #E2EBFA;\n",
              "      box-shadow: 0px 1px 2px rgba(60, 64, 67, 0.3), 0px 1px 3px 1px rgba(60, 64, 67, 0.15);\n",
              "      fill: #174EA6;\n",
              "    }\n",
              "\n",
              "    .colab-df-buttons div {\n",
              "      margin-bottom: 4px;\n",
              "    }\n",
              "\n",
              "    [theme=dark] .colab-df-convert {\n",
              "      background-color: #3B4455;\n",
              "      fill: #D2E3FC;\n",
              "    }\n",
              "\n",
              "    [theme=dark] .colab-df-convert:hover {\n",
              "      background-color: #434B5C;\n",
              "      box-shadow: 0px 1px 3px 1px rgba(0, 0, 0, 0.15);\n",
              "      filter: drop-shadow(0px 1px 2px rgba(0, 0, 0, 0.3));\n",
              "      fill: #FFFFFF;\n",
              "    }\n",
              "  </style>\n",
              "\n",
              "    <script>\n",
              "      const buttonEl =\n",
              "        document.querySelector('#df-5aae5732-8a18-4e39-8029-db3db83fc36f button.colab-df-convert');\n",
              "      buttonEl.style.display =\n",
              "        google.colab.kernel.accessAllowed ? 'block' : 'none';\n",
              "\n",
              "      async function convertToInteractive(key) {\n",
              "        const element = document.querySelector('#df-5aae5732-8a18-4e39-8029-db3db83fc36f');\n",
              "        const dataTable =\n",
              "          await google.colab.kernel.invokeFunction('convertToInteractive',\n",
              "                                                    [key], {});\n",
              "        if (!dataTable) return;\n",
              "\n",
              "        const docLinkHtml = 'Like what you see? Visit the ' +\n",
              "          '<a target=\"_blank\" href=https://colab.research.google.com/notebooks/data_table.ipynb>data table notebook</a>'\n",
              "          + ' to learn more about interactive tables.';\n",
              "        element.innerHTML = '';\n",
              "        dataTable['output_type'] = 'display_data';\n",
              "        await google.colab.output.renderOutput(dataTable, element);\n",
              "        const docLink = document.createElement('div');\n",
              "        docLink.innerHTML = docLinkHtml;\n",
              "        element.appendChild(docLink);\n",
              "      }\n",
              "    </script>\n",
              "  </div>\n",
              "\n",
              "\n",
              "<div id=\"df-a478aa3c-7a6e-40b1-b248-768a3484ed8b\">\n",
              "  <button class=\"colab-df-quickchart\" onclick=\"quickchart('df-a478aa3c-7a6e-40b1-b248-768a3484ed8b')\"\n",
              "            title=\"Suggest charts\"\n",
              "            style=\"display:none;\">\n",
              "\n",
              "<svg xmlns=\"http://www.w3.org/2000/svg\" height=\"24px\"viewBox=\"0 0 24 24\"\n",
              "     width=\"24px\">\n",
              "    <g>\n",
              "        <path d=\"M19 3H5c-1.1 0-2 .9-2 2v14c0 1.1.9 2 2 2h14c1.1 0 2-.9 2-2V5c0-1.1-.9-2-2-2zM9 17H7v-7h2v7zm4 0h-2V7h2v10zm4 0h-2v-4h2v4z\"/>\n",
              "    </g>\n",
              "</svg>\n",
              "  </button>\n",
              "\n",
              "<style>\n",
              "  .colab-df-quickchart {\n",
              "      --bg-color: #E8F0FE;\n",
              "      --fill-color: #1967D2;\n",
              "      --hover-bg-color: #E2EBFA;\n",
              "      --hover-fill-color: #174EA6;\n",
              "      --disabled-fill-color: #AAA;\n",
              "      --disabled-bg-color: #DDD;\n",
              "  }\n",
              "\n",
              "  [theme=dark] .colab-df-quickchart {\n",
              "      --bg-color: #3B4455;\n",
              "      --fill-color: #D2E3FC;\n",
              "      --hover-bg-color: #434B5C;\n",
              "      --hover-fill-color: #FFFFFF;\n",
              "      --disabled-bg-color: #3B4455;\n",
              "      --disabled-fill-color: #666;\n",
              "  }\n",
              "\n",
              "  .colab-df-quickchart {\n",
              "    background-color: var(--bg-color);\n",
              "    border: none;\n",
              "    border-radius: 50%;\n",
              "    cursor: pointer;\n",
              "    display: none;\n",
              "    fill: var(--fill-color);\n",
              "    height: 32px;\n",
              "    padding: 0;\n",
              "    width: 32px;\n",
              "  }\n",
              "\n",
              "  .colab-df-quickchart:hover {\n",
              "    background-color: var(--hover-bg-color);\n",
              "    box-shadow: 0 1px 2px rgba(60, 64, 67, 0.3), 0 1px 3px 1px rgba(60, 64, 67, 0.15);\n",
              "    fill: var(--button-hover-fill-color);\n",
              "  }\n",
              "\n",
              "  .colab-df-quickchart-complete:disabled,\n",
              "  .colab-df-quickchart-complete:disabled:hover {\n",
              "    background-color: var(--disabled-bg-color);\n",
              "    fill: var(--disabled-fill-color);\n",
              "    box-shadow: none;\n",
              "  }\n",
              "\n",
              "  .colab-df-spinner {\n",
              "    border: 2px solid var(--fill-color);\n",
              "    border-color: transparent;\n",
              "    border-bottom-color: var(--fill-color);\n",
              "    animation:\n",
              "      spin 1s steps(1) infinite;\n",
              "  }\n",
              "\n",
              "  @keyframes spin {\n",
              "    0% {\n",
              "      border-color: transparent;\n",
              "      border-bottom-color: var(--fill-color);\n",
              "      border-left-color: var(--fill-color);\n",
              "    }\n",
              "    20% {\n",
              "      border-color: transparent;\n",
              "      border-left-color: var(--fill-color);\n",
              "      border-top-color: var(--fill-color);\n",
              "    }\n",
              "    30% {\n",
              "      border-color: transparent;\n",
              "      border-left-color: var(--fill-color);\n",
              "      border-top-color: var(--fill-color);\n",
              "      border-right-color: var(--fill-color);\n",
              "    }\n",
              "    40% {\n",
              "      border-color: transparent;\n",
              "      border-right-color: var(--fill-color);\n",
              "      border-top-color: var(--fill-color);\n",
              "    }\n",
              "    60% {\n",
              "      border-color: transparent;\n",
              "      border-right-color: var(--fill-color);\n",
              "    }\n",
              "    80% {\n",
              "      border-color: transparent;\n",
              "      border-right-color: var(--fill-color);\n",
              "      border-bottom-color: var(--fill-color);\n",
              "    }\n",
              "    90% {\n",
              "      border-color: transparent;\n",
              "      border-bottom-color: var(--fill-color);\n",
              "    }\n",
              "  }\n",
              "</style>\n",
              "\n",
              "  <script>\n",
              "    async function quickchart(key) {\n",
              "      const quickchartButtonEl =\n",
              "        document.querySelector('#' + key + ' button');\n",
              "      quickchartButtonEl.disabled = true;  // To prevent multiple clicks.\n",
              "      quickchartButtonEl.classList.add('colab-df-spinner');\n",
              "      try {\n",
              "        const charts = await google.colab.kernel.invokeFunction(\n",
              "            'suggestCharts', [key], {});\n",
              "      } catch (error) {\n",
              "        console.error('Error during call to suggestCharts:', error);\n",
              "      }\n",
              "      quickchartButtonEl.classList.remove('colab-df-spinner');\n",
              "      quickchartButtonEl.classList.add('colab-df-quickchart-complete');\n",
              "    }\n",
              "    (() => {\n",
              "      let quickchartButtonEl =\n",
              "        document.querySelector('#df-a478aa3c-7a6e-40b1-b248-768a3484ed8b button');\n",
              "      quickchartButtonEl.style.display =\n",
              "        google.colab.kernel.accessAllowed ? 'block' : 'none';\n",
              "    })();\n",
              "  </script>\n",
              "</div>\n",
              "\n",
              "  <div id=\"id_9a6ad6b7-9c0a-4fa4-b27e-3154ab6dd616\">\n",
              "    <style>\n",
              "      .colab-df-generate {\n",
              "        background-color: #E8F0FE;\n",
              "        border: none;\n",
              "        border-radius: 50%;\n",
              "        cursor: pointer;\n",
              "        display: none;\n",
              "        fill: #1967D2;\n",
              "        height: 32px;\n",
              "        padding: 0 0 0 0;\n",
              "        width: 32px;\n",
              "      }\n",
              "\n",
              "      .colab-df-generate:hover {\n",
              "        background-color: #E2EBFA;\n",
              "        box-shadow: 0px 1px 2px rgba(60, 64, 67, 0.3), 0px 1px 3px 1px rgba(60, 64, 67, 0.15);\n",
              "        fill: #174EA6;\n",
              "      }\n",
              "\n",
              "      [theme=dark] .colab-df-generate {\n",
              "        background-color: #3B4455;\n",
              "        fill: #D2E3FC;\n",
              "      }\n",
              "\n",
              "      [theme=dark] .colab-df-generate:hover {\n",
              "        background-color: #434B5C;\n",
              "        box-shadow: 0px 1px 3px 1px rgba(0, 0, 0, 0.15);\n",
              "        filter: drop-shadow(0px 1px 2px rgba(0, 0, 0, 0.3));\n",
              "        fill: #FFFFFF;\n",
              "      }\n",
              "    </style>\n",
              "    <button class=\"colab-df-generate\" onclick=\"generateWithVariable('features_df')\"\n",
              "            title=\"Generate code using this dataframe.\"\n",
              "            style=\"display:none;\">\n",
              "\n",
              "  <svg xmlns=\"http://www.w3.org/2000/svg\" height=\"24px\"viewBox=\"0 0 24 24\"\n",
              "       width=\"24px\">\n",
              "    <path d=\"M7,19H8.4L18.45,9,17,7.55,7,17.6ZM5,21V16.75L18.45,3.32a2,2,0,0,1,2.83,0l1.4,1.43a1.91,1.91,0,0,1,.58,1.4,1.91,1.91,0,0,1-.58,1.4L9.25,21ZM18.45,9,17,7.55Zm-12,3A5.31,5.31,0,0,0,4.9,8.1,5.31,5.31,0,0,0,1,6.5,5.31,5.31,0,0,0,4.9,4.9,5.31,5.31,0,0,0,6.5,1,5.31,5.31,0,0,0,8.1,4.9,5.31,5.31,0,0,0,12,6.5,5.46,5.46,0,0,0,6.5,12Z\"/>\n",
              "  </svg>\n",
              "    </button>\n",
              "    <script>\n",
              "      (() => {\n",
              "      const buttonEl =\n",
              "        document.querySelector('#id_9a6ad6b7-9c0a-4fa4-b27e-3154ab6dd616 button.colab-df-generate');\n",
              "      buttonEl.style.display =\n",
              "        google.colab.kernel.accessAllowed ? 'block' : 'none';\n",
              "\n",
              "      buttonEl.onclick = () => {\n",
              "        google.colab.notebook.generateWithVariable('features_df');\n",
              "      }\n",
              "      })();\n",
              "    </script>\n",
              "  </div>\n",
              "\n",
              "    </div>\n",
              "  </div>\n"
            ],
            "application/vnd.google.colaboratory.intrinsic+json": {
              "type": "dataframe",
              "variable_name": "features_df"
            }
          },
          "metadata": {},
          "execution_count": 274
        }
      ]
    },
    {
      "cell_type": "markdown",
      "source": [
        "# Dados de presença e faltas"
      ],
      "metadata": {
        "id": "mNjE7Xu0pm1a"
      }
    },
    {
      "cell_type": "code",
      "source": [
        "TbDiario.keys()"
      ],
      "metadata": {
        "id": "FoQdd8cUZSRV",
        "outputId": "495dd717-eeb6-4795-8193-2573569c7718",
        "colab": {
          "base_uri": "https://localhost:8080/"
        }
      },
      "execution_count": 137,
      "outputs": [
        {
          "output_type": "execute_result",
          "data": {
            "text/plain": [
              "dict_keys(['TbDiarioFrequencia', 'TbDiarioAluno', 'TbDiario', 'TbDiarioAula'])"
            ]
          },
          "metadata": {},
          "execution_count": 137
        }
      ]
    },
    {
      "cell_type": "code",
      "source": [
        "diario_freq_df = TbDiario['TbDiarioFrequencia'] # Tabela com os frequências, uma linha por IdDiarioFrequencia\n",
        "diario_df = TbDiario['TbDiario'] # Tabela com os dados do diário, uma linha por IdDiario\n",
        "diario_aula_df = TbDiario['TbDiarioAula'] # Tabela com os dados da aula, uma linha por IdDiarioAula\n",
        "diario_aluno_df = TbDiario['TbDiarioAluno'] # Tabela com os dados do aluno, uma linha por IdDiarioAluno"
      ],
      "metadata": {
        "id": "dsUFV1ZJpwJ-"
      },
      "execution_count": 138,
      "outputs": []
    },
    {
      "cell_type": "code",
      "source": [
        "# Cruzandos as tabela para montar um analítico de frequências\n",
        "print(\"Shape de diario_freq_df:\", diario_freq_df.shape)\n",
        "analitico_freq_df = diario_freq_df.merge(diario_aula_df, on='IdDiarioAula', how='left')\n",
        "analitico_freq_df = analitico_freq_df.merge(diario_df, on='IdDiario', how='left')\n",
        "analitico_freq_df = analitico_freq_df.merge(diario_aluno_df, on=['IdDiario','IdAluno'], how='left')\n",
        "\n",
        "print(\"Shape de analitico_freq_df:\", analitico_freq_df.shape)"
      ],
      "metadata": {
        "colab": {
          "base_uri": "https://localhost:8080/"
        },
        "id": "wZMfSf3NqHGs",
        "outputId": "4173d763-185a-49f8-fc07-5c9b3aeca123"
      },
      "execution_count": 139,
      "outputs": [
        {
          "output_type": "stream",
          "name": "stdout",
          "text": [
            "Shape de diario_freq_df: (313160, 4)\n",
            "Shape de analitico_freq_df: (313160, 26)\n"
          ]
        }
      ]
    },
    {
      "cell_type": "code",
      "source": [
        "# Limpeza de colunas\n",
        "analitico_freq_df = cleanning_cols_dates(analitico_freq_df) # Limpeza de colunas de datas"
      ],
      "metadata": {
        "colab": {
          "base_uri": "https://localhost:8080/"
        },
        "id": "bCZbeeT53xVN",
        "outputId": "77833456-0e11-42a0-8184-07e54901d240"
      },
      "execution_count": 140,
      "outputs": [
        {
          "output_type": "stream",
          "name": "stdout",
          "text": [
            "Lista de colunas de datas: ['DataAula', 'DataHoraLimiteChamadaOnline', 'DataLimiteDigitacao', 'DataBloqueioDigitacaoAula', 'DataInicial', 'DataFinal']\n",
            "Essa coluna \"DataHoraLimiteChamadaOnline\" não pode ser convertida para data\n"
          ]
        },
        {
          "output_type": "stream",
          "name": "stderr",
          "text": [
            "<ipython-input-128-067541997676>:175: UserWarning: Could not infer format, so each element will be parsed individually, falling back to `dateutil`. To ensure parsing is consistent and as-expected, please specify a format.\n",
            "  df_[col] = pd.to_datetime(df_[col])\n"
          ]
        }
      ]
    },
    {
      "cell_type": "code",
      "source": [
        "# Adicionando colunas\n",
        "analitico_freq_df['AnoMesAula'] = analitico_freq_df['DataAula'].dt.strftime('%Y%m').astype(int)"
      ],
      "metadata": {
        "id": "b7GlzyVExIVU"
      },
      "execution_count": 141,
      "outputs": []
    },
    {
      "cell_type": "code",
      "source": [
        "# Consolidando frequências por ano, mês, diário e disciplina\n",
        "frequencia_aluno_turma_df = analitico_freq_df.groupby(by=[\n",
        "    'IdAluno',\n",
        "    'IdTurma',\n",
        "    # 'IdDiario',\n",
        "    'IdDisciplina',\n",
        "    'AnoMesAula',\n",
        "    'StPresencaFalta'\n",
        "], as_index=False).agg(\n",
        "    QtdAulas=('IdDiarioFrequencia', 'nunique'),\n",
        "    # MaxQtdeMinimaAulas=('QtdeMinimaAulas', 'max'),\n",
        "    # MinQtdeMinimaAulas=('QtdeMinimaAulas', 'min'),\n",
        "    # MaxQtdeMaximaAulas=('QtdeMaximaAulas', 'max'),\n",
        "    # MinQtdeMaximaAulas=('QtdeMaximaAulas', 'min')\n",
        ")\n",
        "\n",
        "# # Removendo colunas\n",
        "# if frequencia_aluno_turma_df[\n",
        "#     (frequencia_aluno_turma_df['MaxQtdeMinimaAulas'] != frequencia_aluno_turma_df['MinQtdeMinimaAulas']) |\n",
        "#     (frequencia_aluno_turma_df['MaxQtdeMaximaAulas'] != frequencia_aluno_turma_df['MinQtdeMaximaAulas'])\n",
        "# ].shape[0] == 0:\n",
        "#     frequencia_aluno_turma_df = frequencia_aluno_turma_df.drop(columns=['MaxQtdeMinimaAulas','MaxQtdeMaximaAulas'])\n",
        "#     frequencia_aluno_turma_df = frequencia_aluno_turma_df.rename(columns={'MinQtdeMinimaAulas': 'QtdeMinimaAulas', 'MinQtdeMaximaAulas': 'QtdeMaximaAulas'})"
      ],
      "metadata": {
        "id": "fiL2eGVJuiDk"
      },
      "execution_count": 142,
      "outputs": []
    },
    {
      "cell_type": "code",
      "source": [
        "# Pivoteando a coluna de StPresencaFalta\n",
        "frequencia_aluno_turma_df = frequencia_aluno_turma_df.pivot(\n",
        "    index=[\n",
        "        'IdAluno',\n",
        "        'IdTurma',\n",
        "        # 'IdDiario',\n",
        "        'IdDisciplina',\n",
        "        'AnoMesAula'],\n",
        "    columns='StPresencaFalta',\n",
        "    values=[\n",
        "        'QtdAulas',\n",
        "        # 'QtdeMinimaAulas',\n",
        "        # 'QtdeMaximaAulas'\n",
        "        ]\n",
        ").reset_index()\n",
        "\n",
        "# # Tratando colunas\n",
        "# frequencia_aluno_turma_df = coalesce_multiple_columns(df=frequencia_aluno_turma_df, lst_cols_to_coalesce=[('QtdeMinimaAulas', 'P'),('QtdeMinimaAulas', 'F'),('QtdeMinimaAulas', 'J')], new_col=('QtdeMinimaAulas', ''), drop_cols=True)\n",
        "# frequencia_aluno_turma_df = coalesce_multiple_columns(df=frequencia_aluno_turma_df, lst_cols_to_coalesce=[('QtdeMaximaAulas', 'P'),('QtdeMaximaAulas', 'F'),('QtdeMaximaAulas', 'J')], new_col=('QtdeMaximaAulas', ''), drop_cols=True)\n",
        "\n",
        "frequencia_aluno_turma_df.columns = [\n",
        "    'IdAluno',\n",
        "    'IdTurma',\n",
        "    # 'IdDiario',\n",
        "    'IdDisciplina',\n",
        "    'AnoMesAula',\n",
        "    'QtdAulasFalta',\n",
        "    'QtdAulasJustificada',\n",
        "    'QtdAulasPresente',\n",
        "    # 'QtdeMinimaAulas',\n",
        "    # 'QtdeMaximaAulas'\n",
        "]"
      ],
      "metadata": {
        "id": "JKd_IaCnEm6r"
      },
      "execution_count": 143,
      "outputs": []
    },
    {
      "cell_type": "code",
      "source": [
        "# Tratando nulos\n",
        "frequencia_aluno_turma_df = frequencia_aluno_turma_df.fillna({'QtdAulasFalta': 0, 'QtdAulasJustificada': 0, 'QtdAulasPresente': 0})\n",
        "\n",
        "## Criando novas colunas\n",
        "frequencia_aluno_turma_df['QtdAulasTotal'] = frequencia_aluno_turma_df['QtdAulasFalta'] + frequencia_aluno_turma_df['QtdAulasJustificada'] + frequencia_aluno_turma_df['QtdAulasPresente']\n",
        "\n",
        "# Criando Features acumuladas\n",
        "frequencia_aluno_turma_df = frequencia_aluno_turma_df.sort_values(by=['IdAluno','IdTurma','IdDisciplina','AnoMesAula'], ascending=[True,True,True,True])\n",
        "frequencia_aluno_turma_df['QtdAulasFaltaAcum'] = frequencia_aluno_turma_df.groupby(by=['IdAluno','IdTurma','IdDisciplina'])['QtdAulasFalta'].cumsum()\n",
        "frequencia_aluno_turma_df['QtdAulasJustificadaAcum'] = frequencia_aluno_turma_df.groupby(by=['IdAluno','IdTurma','IdDisciplina'])['QtdAulasJustificada'].cumsum()\n",
        "frequencia_aluno_turma_df['QtdAulasPresenteAcum'] = frequencia_aluno_turma_df.groupby(by=['IdAluno','IdTurma','IdDisciplina'])['QtdAulasPresente'].cumsum()\n",
        "frequencia_aluno_turma_df['QtdAulasTotalAcum'] = frequencia_aluno_turma_df.groupby(by=['IdAluno','IdTurma','IdDisciplina'])['QtdAulasTotal'].cumsum()\n",
        "\n",
        "# Criando features de %\n",
        "frequencia_aluno_turma_df['PercFalta'] = frequencia_aluno_turma_df['QtdAulasFalta'] / frequencia_aluno_turma_df['QtdAulasTotal']\n",
        "frequencia_aluno_turma_df['PercJustificada'] = frequencia_aluno_turma_df['QtdAulasJustificada'] / frequencia_aluno_turma_df['QtdAulasTotal']\n",
        "frequencia_aluno_turma_df['PercPresente'] = frequencia_aluno_turma_df['QtdAulasPresente'] / frequencia_aluno_turma_df['QtdAulasTotal']\n",
        "\n",
        "frequencia_aluno_turma_df['PercFaltaAcum'] = frequencia_aluno_turma_df['QtdAulasFaltaAcum'] / frequencia_aluno_turma_df['QtdAulasTotalAcum']\n",
        "frequencia_aluno_turma_df['PercJustificadaAcum'] = frequencia_aluno_turma_df['QtdAulasJustificadaAcum'] / frequencia_aluno_turma_df['QtdAulasTotalAcum']\n",
        "frequencia_aluno_turma_df['PercPresenteAcum'] = frequencia_aluno_turma_df['QtdAulasPresenteAcum'] / frequencia_aluno_turma_df['QtdAulasTotalAcum']"
      ],
      "metadata": {
        "id": "yAIi9fpKF8BS"
      },
      "execution_count": 144,
      "outputs": []
    },
    {
      "cell_type": "code",
      "source": [
        "frequencia_aluno_turma_df.info()"
      ],
      "metadata": {
        "colab": {
          "base_uri": "https://localhost:8080/"
        },
        "id": "UqZakfSZFexN",
        "outputId": "c8afda77-be9d-4eae-c8fd-0c90eaef5e89"
      },
      "execution_count": 145,
      "outputs": [
        {
          "output_type": "stream",
          "name": "stdout",
          "text": [
            "<class 'pandas.core.frame.DataFrame'>\n",
            "RangeIndex: 104754 entries, 0 to 104753\n",
            "Data columns (total 18 columns):\n",
            " #   Column                   Non-Null Count   Dtype  \n",
            "---  ------                   --------------   -----  \n",
            " 0   IdAluno                  104754 non-null  int64  \n",
            " 1   IdTurma                  104754 non-null  int64  \n",
            " 2   IdDisciplina             104754 non-null  int64  \n",
            " 3   AnoMesAula               104754 non-null  int64  \n",
            " 4   QtdAulasFalta            104754 non-null  float64\n",
            " 5   QtdAulasJustificada      104754 non-null  float64\n",
            " 6   QtdAulasPresente         104754 non-null  float64\n",
            " 7   QtdAulasTotal            104754 non-null  float64\n",
            " 8   QtdAulasFaltaAcum        104754 non-null  float64\n",
            " 9   QtdAulasJustificadaAcum  104754 non-null  float64\n",
            " 10  QtdAulasPresenteAcum     104754 non-null  float64\n",
            " 11  QtdAulasTotalAcum        104754 non-null  float64\n",
            " 12  PercFalta                104754 non-null  float64\n",
            " 13  PercJustificada          104754 non-null  float64\n",
            " 14  PercPresente             104754 non-null  float64\n",
            " 15  PercFaltaAcum            104754 non-null  float64\n",
            " 16  PercJustificadaAcum      104754 non-null  float64\n",
            " 17  PercPresenteAcum         104754 non-null  float64\n",
            "dtypes: float64(14), int64(4)\n",
            "memory usage: 14.4 MB\n"
          ]
        }
      ]
    },
    {
      "cell_type": "code",
      "source": [
        "# Adicionando as dados de frequencia na tabela de features\n",
        "features_df = pd.merge(\n",
        "    features_df,\n",
        "    frequencia_aluno_turma_df,\n",
        "    on=['IdAluno','AnoMesAula'],\n",
        "    how='left'\n",
        ")"
      ],
      "metadata": {
        "id": "XgLSXUxcrqMC"
      },
      "execution_count": null,
      "outputs": []
    },
    {
      "cell_type": "markdown",
      "source": [
        "# Dados de notas"
      ],
      "metadata": {
        "id": "JQoyPPvnZJJL"
      }
    },
    {
      "cell_type": "code",
      "source": [
        "fase_nota_aluno_df = TbFase['TbFaseNotaAluno']\n",
        "fase_nota_df = TbFase['TbFaseNota']\n",
        "fase_nota_disciplina_turma_df = TbFase['TbFaseNotaDisciplinaTurma']\n",
        "fase_nota_origem_destino_df = TbFase['TbFaseNotaOrigemDestino']\n",
        "meta_fase_nota_df = TbMeta['TbMetaFaseNota']\n",
        "periodo_df = TbOutras['TbPeriodo']\n",
        "serie_df = TbSerie['TbSerie']\n",
        "historico_df = TbHistorico['TbHistorico']\n",
        "historico_notas_df = TbHistorico['TbHistoricoNotas']"
      ],
      "metadata": {
        "id": "qDWoMOlnofQ1"
      },
      "execution_count": 255,
      "outputs": []
    },
    {
      "cell_type": "code",
      "source": [
        "TbFase.keys()"
      ],
      "metadata": {
        "id": "delVge-gbV6w",
        "outputId": "95f3f028-0078-4d3e-8ea4-d3dd4c8fde86",
        "colab": {
          "base_uri": "https://localhost:8080/"
        }
      },
      "execution_count": 256,
      "outputs": [
        {
          "output_type": "execute_result",
          "data": {
            "text/plain": [
              "dict_keys(['TbFaseNotaAluno', 'TbFaseNota', 'TbFaseNotaDisciplinaTurma', 'TbFaseNotaOrigemDestino'])"
            ]
          },
          "metadata": {},
          "execution_count": 256
        }
      ]
    },
    {
      "cell_type": "code",
      "source": [
        "# Consolidando Data de Inicio e Fim de cada IdFaseNota\n",
        "print(\"shape meta_fase_nota_df:\", meta_fase_nota_df.shape)\n",
        "\n",
        "# infos_tempo_fase_nota_df = pd.merge(\n",
        "#     meta_fase_nota_df,\n",
        "#     periodo_df[['IdPeriodo','DataInicial','DataFinal']].rename(\n",
        "#         columns={'DataInicial': 'DataInicialPeriodoAula', 'DataFinal': 'DataFinalPeriodoAula'}\n",
        "#     ),\n",
        "#     on='IdPeriodo',\n",
        "#     how='left'\n",
        "# )\n",
        "\n",
        "fase_nota_df = pd.merge(\n",
        "    fase_nota_df,\n",
        "    periodo_df[['IdPeriodo','DataInicial','DataFinal']].rename(\n",
        "        columns={'DataInicial': 'DataInicialPeriodo', 'DataFinal': 'DataFinalPeriodo'}\n",
        "    ),\n",
        "    on='IdPeriodo',\n",
        "    how='left'\n",
        ")\n",
        "\n",
        "print(\"shape fase_nota_df:\", fase_nota_df.shape)\n",
        "\n",
        "# Criando datas auxiliares\n",
        "fase_nota_df = cleanning_cols_dates(fase_nota_df)\n",
        "\n",
        "# Criando colunas\n",
        "fase_nota_df['AnoPeriodoAula'] = fase_nota_df['DataInicialPeriodo'].dt.strftime('%Y').astype(int)\n",
        "fase_nota_df['DataInicialFaseNota'] = np.select(\n",
        "    [\n",
        "        (fase_nota_df['DataInicialPeriodoAula'].notnull()).astype('bool'),\n",
        "        ((fase_nota_df['DataInicialPeriodoAula'].isnull()) & (fase_nota_df['NomeFase'] == '1º SEMESTRE')).astype('bool'),\n",
        "        ((fase_nota_df['DataInicialPeriodoAula'].isnull()) & (fase_nota_df['NomeFase'] == '2º SEMESTRE')).astype('bool')\n",
        "    ],\n",
        "    [\n",
        "        fase_nota_df['DataInicialPeriodoAula'],\n",
        "        fase_nota_df['DataInicialPeriodo'],\n",
        "        pd.to_datetime(fase_nota_df['AnoPeriodoAula'].astype('str') + '-07-25')\n",
        "    ],\n",
        "    default=None\n",
        ")\n",
        "\n",
        "fase_nota_df['DataFinalFaseNota'] = np.select(\n",
        "    [\n",
        "        (fase_nota_df['DataFinalPeriodoAula'].notnull()).astype('bool'),\n",
        "        ((fase_nota_df['DataFinalPeriodoAula'].isnull()) & (fase_nota_df['NomeFase'] == '1º SEMESTRE')).astype('bool'),\n",
        "        ((fase_nota_df['DataFinalPeriodoAula'].isnull()) & (fase_nota_df['NomeFase'] == '2º SEMESTRE')).astype('bool')\n",
        "    ],\n",
        "    [\n",
        "        fase_nota_df['DataFinalPeriodoAula'],\n",
        "        pd.to_datetime(fase_nota_df['AnoPeriodoAula'].astype('str') + '-07-10'),\n",
        "        fase_nota_df['DataFinalPeriodo']\n",
        "    ],\n",
        "    default=None\n",
        ")\n",
        "\n",
        "\n",
        "# Consolidando analítico notas das fase por aluno\n",
        "print(\"shape fase_nota_aluno_df:\", fase_nota_aluno_df.shape)\n",
        "\n",
        "analitico_fase_nota_aluno_df = pd.merge(\n",
        "    fase_nota_aluno_df,\n",
        "    fase_nota_df,\n",
        "    on='IdFaseNota',\n",
        "    how='left'\n",
        ")\n",
        "\n",
        "print(\"shape analitico_fase_nota_aluno_df:\", analitico_fase_nota_aluno_df.shape)\n"
      ],
      "metadata": {
        "colab": {
          "base_uri": "https://localhost:8080/"
        },
        "id": "EF9FSDs5ULxt",
        "outputId": "a7f32bf6-5c71-44c1-ce71-c39be6a7acb3"
      },
      "execution_count": 257,
      "outputs": [
        {
          "output_type": "stream",
          "name": "stdout",
          "text": [
            "shape meta_fase_nota_df: (162, 5)\n",
            "shape fase_nota_df: (1092, 40)\n",
            "Lista de colunas de datas: ['DataInicioExibicao', 'DataInicialPeriodoAula', 'DataFinalPeriodoAula', 'DataInicialPeriodo', 'DataFinalPeriodo']\n",
            "shape fase_nota_aluno_df: (121656, 20)\n",
            "shape analitico_fase_nota_aluno_df: (121656, 62)\n"
          ]
        }
      ]
    },
    {
      "cell_type": "code",
      "source": [
        "# Consolidando qtd de séries aprovadas\n",
        "qtd_series_aprovadas_por_ano_df = historico_df.groupby(by=['IdAluno','AnoConclusao','ResultadoFinal'], as_index=False).agg(QtdSeries=('CodigoSerie','nunique'))\n",
        "qtd_series_aprovadas_por_ano_df = qtd_series_aprovadas_por_ano_df.pivot(index=['IdAluno','AnoConclusao'], columns='ResultadoFinal', values='QtdSeries').reset_index()\n",
        "qtd_series_aprovadas_por_ano_df.columns = ['IdAluno','AnoConclusao','QtdSeriesA','QtdSeriesC']\n",
        "qtd_series_aprovadas_por_ano_df = qtd_series_aprovadas_por_ano_df.fillna({'QtdSeriesA': 0, 'QtdSeriesC': 0})\n",
        "qtd_series_aprovadas_por_ano_df = qtd_series_aprovadas_por_ano_df.sort_values(by=['IdAluno','AnoConclusao'], ascending=[True,True])"
      ],
      "metadata": {
        "id": "CMCFbhfmVlNq"
      },
      "execution_count": 215,
      "outputs": []
    },
    {
      "cell_type": "code",
      "source": [
        "# Consolidando dados de histórico\n",
        "print(\"shape historico_notas_df:\", historico_notas_df.shape)\n",
        "\n",
        "analitico_historico_df = pd.merge(\n",
        "    historico_notas_df,\n",
        "    serie_df[['IdSerie','NomeSerie','IdCurso','IdProximaSerie','IdServicoMensalidade','CodigoSerie']],\n",
        "    on='CodigoSerie',\n",
        "    how='left'\n",
        ")\n",
        "\n",
        "analitico_historico_df['NotaFinal'] = pd.to_numeric(analitico_historico_df['NotaFinal'].str.replace(',','.').str.strip(), errors='coerce')\n",
        "\n",
        "\n",
        "nota_media_aluno_por_disciplina_df = analitico_historico_df.groupby(by=['IdAluno','AnoConclusao','IdDisciplina'], as_index=False).agg(NotaMedia=('NotaFinal','mean'))\n",
        "\n",
        "print(\"shape analitico_historico_df:\", analitico_historico_df.shape)"
      ],
      "metadata": {
        "colab": {
          "base_uri": "https://localhost:8080/"
        },
        "id": "JafMaOQp6x64",
        "outputId": "700fcd75-3c47-40a2-a9e6-d6dc24f862be"
      },
      "execution_count": 241,
      "outputs": [
        {
          "output_type": "stream",
          "name": "stdout",
          "text": [
            "shape historico_notas_df: (60, 11)\n",
            "shape analitico_historico_df: (60, 16)\n"
          ]
        }
      ]
    }
  ]
}